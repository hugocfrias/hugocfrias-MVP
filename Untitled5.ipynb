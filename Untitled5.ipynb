{
  "nbformat": 4,
  "nbformat_minor": 0,
  "metadata": {
    "colab": {
      "provenance": [],
      "authorship_tag": "ABX9TyN5guIzZVBAWmAaIp5e1WqD",
      "include_colab_link": true
    },
    "kernelspec": {
      "name": "python3",
      "display_name": "Python 3"
    },
    "language_info": {
      "name": "python"
    }
  },
  "cells": [
    {
      "cell_type": "markdown",
      "metadata": {
        "id": "view-in-github",
        "colab_type": "text"
      },
      "source": [
        "<a href=\"https://colab.research.google.com/github/hugocfrias/hugocfrias-MVP/blob/main/Untitled5.ipynb\" target=\"_parent\"><img src=\"https://colab.research.google.com/assets/colab-badge.svg\" alt=\"Open In Colab\"/></a>"
      ]
    },
    {
      "cell_type": "markdown",
      "source": [
        "![images.png](data:image/png;base64,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)\n",
        "\n",
        "\n",
        "\n",
        "\n",
        "\n",
        "**MVP:** Análise de Dados e Boas Práticas\n",
        "\n",
        "**Título:** Análise base de dados Sleep Cycle Productivity\n",
        "\n",
        "**Nome:** Hugo Coelho de Frias\n",
        "\n",
        "**Matrícula:** 4052025000248\n",
        "\n",
        "Dataset: [sleep_cycle_productivity](https://www.kaggle.com/datasets/adilshamim8/sleep-cycle-and-productivity)\n",
        "\n",
        "\n",
        "Link DataBase GitHub Raw : https://raw.githubusercontent.com/hugocfrias/hugocfrias-MVP/refs/heads/main/sleep_cycle_productivity.csv\n",
        "\n",
        "\n"
      ],
      "metadata": {
        "id": "CTkhjz_OBsF9"
      }
    },
    {
      "cell_type": "code",
      "execution_count": null,
      "metadata": {
        "id": "WyLupsZJBreZ"
      },
      "outputs": [],
      "source": []
    }
  ]
}
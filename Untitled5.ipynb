{
  "nbformat": 4,
  "nbformat_minor": 0,
  "metadata": {
    "colab": {
      "provenance": [],
      "authorship_tag": "ABX9TyOCcHVQaD/552hzQXKz9/lB",
      "include_colab_link": true
    },
    "kernelspec": {
      "name": "python3",
      "display_name": "Python 3"
    },
    "language_info": {
      "name": "python"
    }
  },
  "cells": [
    {
      "cell_type": "markdown",
      "metadata": {
        "id": "view-in-github",
        "colab_type": "text"
      },
      "source": [
        "<a href=\"https://colab.research.google.com/github/hugocfrias/hugocfrias-MVP/blob/main/Untitled5.ipynb\" target=\"_parent\"><img src=\"https://colab.research.google.com/assets/colab-badge.svg\" alt=\"Open In Colab\"/></a>"
      ]
    },
    {
      "cell_type": "markdown",
      "source": [
        "MVP Análise de Dados e Boas Práticas\n",
        "\n",
        "Nome: Hugo Coelho de Frias\n",
        "\n",
        "Matrícula: 2025000\n",
        "\n",
        "Link DataBase: https://www.kaggle.com/datasets/adilshamim8/sleep-cycle-and-productivity\n",
        "\n",
        "Link DataBase GitHub Raw : https://raw.githubusercontent.com/hugocfrias/hugocfrias-MVP/refs/heads/main/sleep_cycle_productivity.csv\n",
        "\n",
        "\n"
      ],
      "metadata": {
        "id": "CTkhjz_OBsF9"
      }
    },
    {
      "cell_type": "code",
      "execution_count": null,
      "metadata": {
        "id": "WyLupsZJBreZ"
      },
      "outputs": [],
      "source": []
    }
  ]
}
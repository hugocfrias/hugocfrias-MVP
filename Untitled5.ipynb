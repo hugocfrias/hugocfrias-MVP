{
  "nbformat": 4,
  "nbformat_minor": 0,
  "metadata": {
    "colab": {
      "provenance": [],
      "authorship_tag": "ABX9TyM4hFZ0jw9pagB/fXXcdnx6",
      "include_colab_link": true
    },
    "kernelspec": {
      "name": "python3",
      "display_name": "Python 3"
    },
    "language_info": {
      "name": "python"
    }
  },
  "cells": [
    {
      "cell_type": "markdown",
      "metadata": {
        "id": "view-in-github",
        "colab_type": "text"
      },
      "source": [
        "<a href=\"https://colab.research.google.com/github/hugocfrias/hugocfrias-MVP/blob/main/Untitled5.ipynb\" target=\"_parent\"><img src=\"https://colab.research.google.com/assets/colab-badge.svg\" alt=\"Open In Colab\"/></a>"
      ]
    },
    {
      "cell_type": "markdown",
      "source": [
        "MVP: Análise de Dados e Boas Práticas\n",
        "\n",
        "Título: Análise base de dados Sleep Cycle Productivity\n",
        "\n",
        "Nome: Hugo Coelho de Frias\n",
        "\n",
        "Matrícula: 4052025000248\n",
        "\n",
        "Dataset: [sleep_cycle_productivity](https://www.kaggle.com/datasets/adilshamim8/sleep-cycle-and-productivity)\n",
        "\n",
        "Link DataSet: https://www.kaggle.com/datasets/adilshamim8/sleep-cycle-and-productivity\n",
        "\n",
        "Link DataBase GitHub Raw : https://raw.githubusercontent.com/hugocfrias/hugocfrias-MVP/refs/heads/main/sleep_cycle_productivity.csv\n",
        "\n",
        "\n"
      ],
      "metadata": {
        "id": "CTkhjz_OBsF9"
      }
    },
    {
      "cell_type": "code",
      "execution_count": null,
      "metadata": {
        "id": "WyLupsZJBreZ"
      },
      "outputs": [],
      "source": []
    }
  ]
}
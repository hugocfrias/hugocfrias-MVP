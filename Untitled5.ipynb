{
  "nbformat": 4,
  "nbformat_minor": 0,
  "metadata": {
    "colab": {
      "provenance": [],
      "authorship_tag": "ABX9TyODrnqLRAaQC1J8jpfzZsJ9",
      "include_colab_link": true
    },
    "kernelspec": {
      "name": "python3",
      "display_name": "Python 3"
    },
    "language_info": {
      "name": "python"
    }
  },
  "cells": [
    {
      "cell_type": "markdown",
      "metadata": {
        "id": "view-in-github",
        "colab_type": "text"
      },
      "source": [
        "<a href=\"https://colab.research.google.com/github/hugocfrias/hugocfrias-MVP/blob/main/Untitled5.ipynb\" target=\"_parent\"><img src=\"https://colab.research.google.com/assets/colab-badge.svg\" alt=\"Open In Colab\"/></a>"
      ]
    },
    {
      "cell_type": "markdown",
      "source": [
        "# **MVP: Análise de Dados e Boas Práticas**\n",
        "\n",
        "**Título:** Análise base de dados Sleep Cycle Productivity\n",
        "\n",
        "**Nome:** Hugo Coelho de Frias\n",
        "\n",
        "**Matrícula:** 4052025000248\n",
        "\n",
        "Dataset: [sleep_cycle_productivity](https://www.kaggle.com/datasets/adilshamim8/sleep-cycle-and-productivity)\n",
        "\n",
        "\n",
        "Link DataBase GitHub Raw : https://raw.githubusercontent.com/hugocfrias/hugocfrias-MVP/refs/heads/main/sleep_cycle_productivity.csv\n",
        "\n",
        "\n"
      ],
      "metadata": {
        "id": "CTkhjz_OBsF9"
      }
    },
    {
      "cell_type": "markdown",
      "source": [
        "# Importação das Bibliotecas Necessárias e Carga de Dados\n",
        "\n",
        "Inserir introdução"
      ],
      "metadata": {
        "id": "BnSIsOfrIGe5"
      }
    },
    {
      "cell_type": "code",
      "source": [
        "import pandas as pd\n",
        "import numpy as np\n",
        "import matplotlib.pyplot as plt\n",
        "import seaborn as sns\n",
        "from sklearn.datasets import load_iris\n",
        "from sklearn.model_selection import train_test_split\n",
        "from sklearn.preprocessing import StandardScaler, MinMaxScaler, OneHotEncoder\n",
        "from sklearn.decomposition import PCA\n",
        "from sklearn.compose import ColumnTransformer\n",
        "from sklearn.pipeline import Pipeline"
      ],
      "metadata": {
        "id": "Zc_nHTIvI66r"
      },
      "execution_count": null,
      "outputs": []
    }
  ]
}